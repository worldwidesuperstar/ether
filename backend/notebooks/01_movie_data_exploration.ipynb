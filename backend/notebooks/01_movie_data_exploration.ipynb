{
 "cells": [
  {
   "cell_type": "markdown",
   "id": "movie-exploration",
   "metadata": {},
   "source": [
    "# exploring movie data csv"
   ]
  },
  {
   "cell_type": "code",
   "execution_count": 1,
   "id": "imports",
   "metadata": {},
   "outputs": [],
   "source": [
    "import pandas as pd\n",
    "import numpy as np"
   ]
  },
  {
   "cell_type": "code",
   "execution_count": 2,
   "id": "load-movies",
   "metadata": {},
   "outputs": [
    {
     "name": "stdout",
     "output_type": "stream",
     "text": [
      "Total movies: 87585\n"
     ]
    },
    {
     "data": {
      "text/html": [
       "<div>\n",
       "<style scoped>\n",
       "    .dataframe tbody tr th:only-of-type {\n",
       "        vertical-align: middle;\n",
       "    }\n",
       "\n",
       "    .dataframe tbody tr th {\n",
       "        vertical-align: top;\n",
       "    }\n",
       "\n",
       "    .dataframe thead th {\n",
       "        text-align: right;\n",
       "    }\n",
       "</style>\n",
       "<table border=\"1\" class=\"dataframe\">\n",
       "  <thead>\n",
       "    <tr style=\"text-align: right;\">\n",
       "      <th></th>\n",
       "      <th>movieId</th>\n",
       "      <th>title</th>\n",
       "      <th>genres</th>\n",
       "    </tr>\n",
       "  </thead>\n",
       "  <tbody>\n",
       "    <tr>\n",
       "      <th>0</th>\n",
       "      <td>1</td>\n",
       "      <td>Toy Story (1995)</td>\n",
       "      <td>Adventure|Animation|Children|Comedy|Fantasy</td>\n",
       "    </tr>\n",
       "    <tr>\n",
       "      <th>1</th>\n",
       "      <td>2</td>\n",
       "      <td>Jumanji (1995)</td>\n",
       "      <td>Adventure|Children|Fantasy</td>\n",
       "    </tr>\n",
       "    <tr>\n",
       "      <th>2</th>\n",
       "      <td>3</td>\n",
       "      <td>Grumpier Old Men (1995)</td>\n",
       "      <td>Comedy|Romance</td>\n",
       "    </tr>\n",
       "    <tr>\n",
       "      <th>3</th>\n",
       "      <td>4</td>\n",
       "      <td>Waiting to Exhale (1995)</td>\n",
       "      <td>Comedy|Drama|Romance</td>\n",
       "    </tr>\n",
       "    <tr>\n",
       "      <th>4</th>\n",
       "      <td>5</td>\n",
       "      <td>Father of the Bride Part II (1995)</td>\n",
       "      <td>Comedy</td>\n",
       "    </tr>\n",
       "  </tbody>\n",
       "</table>\n",
       "</div>"
      ],
      "text/plain": [
       "   movieId                               title  \\\n",
       "0        1                    Toy Story (1995)   \n",
       "1        2                      Jumanji (1995)   \n",
       "2        3             Grumpier Old Men (1995)   \n",
       "3        4            Waiting to Exhale (1995)   \n",
       "4        5  Father of the Bride Part II (1995)   \n",
       "\n",
       "                                        genres  \n",
       "0  Adventure|Animation|Children|Comedy|Fantasy  \n",
       "1                   Adventure|Children|Fantasy  \n",
       "2                               Comedy|Romance  \n",
       "3                         Comedy|Drama|Romance  \n",
       "4                                       Comedy  "
      ]
     },
     "execution_count": 2,
     "metadata": {},
     "output_type": "execute_result"
    }
   ],
   "source": [
    "movies = pd.read_csv('../data/raw/ml-32m/movies.csv')\n",
    "print(f\"Total movies: {len(movies)}\")\n",
    "movies.head()"
   ]
  },
  {
   "cell_type": "code",
   "execution_count": 3,
   "id": "basic-stats",
   "metadata": {},
   "outputs": [
    {
     "name": "stdout",
     "output_type": "stream",
     "text": [
      "shape: (87585, 3)\n",
      "\n",
      "cols: ['movieId', 'title', 'genres']\n",
      "\n",
      "data types:\n",
      "movieId     int64\n",
      "title      object\n",
      "genres     object\n",
      "dtype: object\n"
     ]
    }
   ],
   "source": [
    "print(\"shape:\", movies.shape)\n",
    "print(\"\\ncols:\", movies.columns.tolist())\n",
    "print(\"\\ndata types:\")\n",
    "print(movies.dtypes)"
   ]
  },
  {
   "cell_type": "code",
   "execution_count": 4,
   "id": "genre-analysis",
   "metadata": {},
   "outputs": [
    {
     "name": "stdout",
     "output_type": "stream",
     "text": [
      "Toy Story (1995): Adventure|Animation|Children|Comedy|Fantasy\n",
      "Jumanji (1995): Adventure|Children|Fantasy\n",
      "Grumpier Old Men (1995): Comedy|Romance\n",
      "Waiting to Exhale (1995): Comedy|Drama|Romance\n",
      "Father of the Bride Part II (1995): Comedy\n"
     ]
    }
   ],
   "source": [
    "for i in range(5):\n",
    "    print(f\"{movies.iloc[i]['title']}: {movies.iloc[i]['genres']}\")"
   ]
  },
  {
   "cell_type": "code",
   "execution_count": 5,
   "id": "genre-split",
   "metadata": {},
   "outputs": [
    {
     "name": "stdout",
     "output_type": "stream",
     "text": [
      "top 20 genres:\n",
      "Drama          34175\n",
      "Comedy         23124\n",
      "Thriller       11823\n",
      "Romance        10369\n",
      "Action          9668\n",
      "Documentary     9363\n",
      "Horror          8654\n",
      "Crime           6976\n",
      "Adventure       5402\n",
      "Sci-Fi          4907\n",
      "Animation       4617\n",
      "Children        4520\n",
      "Mystery         4013\n",
      "Fantasy         3851\n",
      "War             2325\n",
      "Western         1696\n",
      "Musical         1059\n",
      "Film-Noir        353\n",
      "IMAX             195\n",
      "Name: count, dtype: int64\n"
     ]
    }
   ],
   "source": [
    "all_genres = []\n",
    "for genres in movies['genres']:\n",
    "    if genres != '(no genres listed)':\n",
    "        all_genres.extend(genres.split('|'))\n",
    "\n",
    "genre_counts = pd.Series(all_genres).value_counts()\n",
    "print(\"top 20 genres:\")\n",
    "print(genre_counts.head(20))"
   ]
  },
  {
   "cell_type": "code",
   "execution_count": 6,
   "id": "year-extraction",
   "metadata": {},
   "outputs": [
    {
     "name": "stdout",
     "output_type": "stream",
     "text": [
      "year range: 1874.0 - 2023.0\n"
     ]
    }
   ],
   "source": [
    "movies['year'] = movies['title'].str.extract(r'\\((\\d{4})\\)$')[0]\n",
    "movies['year'] = pd.to_numeric(movies['year'], errors='coerce')\n",
    "\n",
    "print(f\"year range: {movies['year'].min()} - {movies['year'].max()}\")"
   ]
  },
  {
   "cell_type": "code",
   "execution_count": 7,
   "id": "sample-movies",
   "metadata": {},
   "outputs": [
    {
     "name": "stdout",
     "output_type": "stream",
     "text": [
      "\n",
      "1990s movies (sample):\n",
      "                  title                                      genres   year\n",
      "       Toy Story (1995) Adventure|Animation|Children|Comedy|Fantasy 1995.0\n",
      "         Jumanji (1995)                  Adventure|Children|Fantasy 1995.0\n",
      "Grumpier Old Men (1995)                              Comedy|Romance 1995.0\n",
      "\n",
      "2000s movies (sample):\n",
      "             title                    genres   year\n",
      " Yards, The (2000)               Crime|Drama 2000.0\n",
      "Next Friday (2000)                    Comedy 2000.0\n",
      "  Supernova (2000) Adventure|Sci-Fi|Thriller 2000.0\n",
      "\n",
      "2010s movies (sample):\n",
      "                  title                       genres   year\n",
      "     Daybreakers (2010) Action|Drama|Horror|Thriller 2010.0\n",
      "       Leap Year (2010)               Comedy|Romance 2010.0\n",
      "Book of Eli, The (2010)       Action|Adventure|Drama 2010.0\n",
      "\n",
      "2020s movies (sample):\n",
      "                 title                  genres   year\n",
      "          Waves (2020)           Drama|Romance 2020.0\n",
      "Gretel & Hansel (2020) Fantasy|Horror|Thriller 2020.0\n",
      "    Like a Boss (2020)                  Comedy 2020.0\n"
     ]
    }
   ],
   "source": [
    "sample_decades = [1990, 2000, 2010, 2020]\n",
    "for decade in sample_decades:\n",
    "    decade_movies = movies[(movies['year'] >= decade) & (movies['year'] < decade + 10)]\n",
    "    if len(decade_movies) > 0:\n",
    "        print(f\"\\n{decade}s movies (sample):\")\n",
    "        print(decade_movies[['title', 'genres', 'year']].head(3).to_string(index=False))"
   ]
  },
  {
   "cell_type": "code",
   "execution_count": 8,
   "id": "ihplgpksk9p",
   "metadata": {},
   "outputs": [
    {
     "name": "stdout",
     "output_type": "stream",
     "text": [
      "movies per decade:\n",
      "1870s: 3 movies\n",
      "1880s: 13 movies\n",
      "1890s: 201 movies\n",
      "1900s: 299 movies\n",
      "1910s: 388 movies\n",
      "1920s: 728 movies\n",
      "1930s: 2,590 movies\n",
      "1940s: 2,758 movies\n",
      "1950s: 3,610 movies\n",
      "1960s: 4,344 movies\n",
      "1970s: 5,980 movies\n",
      "1980s: 6,351 movies\n",
      "1990s: 8,200 movies\n",
      "2000s: 15,457 movies\n",
      "2010s: 27,906 movies\n",
      "2020s: 7,986 movies\n",
      "\n",
      "total movies with valid years: 86,814\n",
      "movies without years: 771\n"
     ]
    },
    {
     "name": "stderr",
     "output_type": "stream",
     "text": [
      "/var/folders/mj/x0hxzz0x5gd0mzmvr8l7q5_40000gp/T/ipykernel_76566/3993647114.py:3: SettingWithCopyWarning: \n",
      "A value is trying to be set on a copy of a slice from a DataFrame.\n",
      "Try using .loc[row_indexer,col_indexer] = value instead\n",
      "\n",
      "See the caveats in the documentation: https://pandas.pydata.org/pandas-docs/stable/user_guide/indexing.html#returning-a-view-versus-a-copy\n",
      "  movies_with_year['decade'] = (movies_with_year['year'] // 10) * 10\n"
     ]
    }
   ],
   "source": [
    "# movies per decade\n",
    "movies_with_year = movies.dropna(subset=['year'])\n",
    "movies_with_year['decade'] = (movies_with_year['year'] // 10) * 10\n",
    "\n",
    "decade_counts = movies_with_year['decade'].value_counts().sort_index()\n",
    "print(\"movies per decade:\")\n",
    "for decade in decade_counts.index:\n",
    "    count = decade_counts[decade]\n",
    "    print(f\"{int(decade)}s: {count:,} movies\")\n",
    "\n",
    "print(f\"\\ntotal movies with valid years: {len(movies_with_year):,}\")\n",
    "print(f\"movies without years: {len(movies) - len(movies_with_year):,}\")"
   ]
  }
 ],
 "metadata": {
  "kernelspec": {
   "display_name": ".venv",
   "language": "python",
   "name": "python3"
  },
  "language_info": {
   "codemirror_mode": {
    "name": "ipython",
    "version": 3
   },
   "file_extension": ".py",
   "mimetype": "text/x-python",
   "name": "python",
   "nbconvert_exporter": "python",
   "pygments_lexer": "ipython3",
   "version": "3.9.6"
  }
 },
 "nbformat": 4,
 "nbformat_minor": 5
}
