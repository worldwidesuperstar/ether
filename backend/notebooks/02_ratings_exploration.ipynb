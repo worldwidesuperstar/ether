{
 "cells": [
  {
   "cell_type": "markdown",
   "id": "ratings-exploration",
   "metadata": {},
   "source": [
    "# exploring ratings data csv"
   ]
  },
  {
   "cell_type": "code",
   "execution_count": null,
   "id": "imports",
   "metadata": {},
   "outputs": [],
   "source": [
    "import pandas as pd\n",
    "import numpy as np"
   ]
  },
  {
   "cell_type": "code",
   "execution_count": null,
   "id": "load-ratings",
   "metadata": {},
   "outputs": [
    {
     "name": "stdout",
     "output_type": "stream",
     "text": [
      "Total ratings: 32,000,204\n"
     ]
    },
    {
     "data": {
      "text/html": [
       "<div>\n",
       "<style scoped>\n",
       "    .dataframe tbody tr th:only-of-type {\n",
       "        vertical-align: middle;\n",
       "    }\n",
       "\n",
       "    .dataframe tbody tr th {\n",
       "        vertical-align: top;\n",
       "    }\n",
       "\n",
       "    .dataframe thead th {\n",
       "        text-align: right;\n",
       "    }\n",
       "</style>\n",
       "<table border=\"1\" class=\"dataframe\">\n",
       "  <thead>\n",
       "    <tr style=\"text-align: right;\">\n",
       "      <th></th>\n",
       "      <th>userId</th>\n",
       "      <th>movieId</th>\n",
       "      <th>rating</th>\n",
       "      <th>timestamp</th>\n",
       "    </tr>\n",
       "  </thead>\n",
       "  <tbody>\n",
       "    <tr>\n",
       "      <th>0</th>\n",
       "      <td>1</td>\n",
       "      <td>17</td>\n",
       "      <td>4.0</td>\n",
       "      <td>944249077</td>\n",
       "    </tr>\n",
       "    <tr>\n",
       "      <th>1</th>\n",
       "      <td>1</td>\n",
       "      <td>25</td>\n",
       "      <td>1.0</td>\n",
       "      <td>944250228</td>\n",
       "    </tr>\n",
       "    <tr>\n",
       "      <th>2</th>\n",
       "      <td>1</td>\n",
       "      <td>29</td>\n",
       "      <td>2.0</td>\n",
       "      <td>943230976</td>\n",
       "    </tr>\n",
       "    <tr>\n",
       "      <th>3</th>\n",
       "      <td>1</td>\n",
       "      <td>30</td>\n",
       "      <td>5.0</td>\n",
       "      <td>944249077</td>\n",
       "    </tr>\n",
       "    <tr>\n",
       "      <th>4</th>\n",
       "      <td>1</td>\n",
       "      <td>32</td>\n",
       "      <td>5.0</td>\n",
       "      <td>943228858</td>\n",
       "    </tr>\n",
       "  </tbody>\n",
       "</table>\n",
       "</div>"
      ],
      "text/plain": [
       "   userId  movieId  rating  timestamp\n",
       "0       1       17     4.0  944249077\n",
       "1       1       25     1.0  944250228\n",
       "2       1       29     2.0  943230976\n",
       "3       1       30     5.0  944249077\n",
       "4       1       32     5.0  943228858"
      ]
     },
     "execution_count": 5,
     "metadata": {},
     "output_type": "execute_result"
    }
   ],
   "source": [
    "ratings = pd.read_csv('../data/raw/ml-32m/ratings.csv')\n",
    "print(f\"total ratings: {len(ratings):,}\")\n",
    "ratings.head()"
   ]
  },
  {
   "cell_type": "code",
   "execution_count": null,
   "id": "basic-stats",
   "metadata": {},
   "outputs": [
    {
     "name": "stdout",
     "output_type": "stream",
     "text": [
      "shape: (32000204, 4)\n",
      "\n",
      "cols: ['userId', 'movieId', 'rating', 'timestamp']\n",
      "\n",
      "data types:\n",
      "userId         int64\n",
      "movieId        int64\n",
      "rating       float64\n",
      "timestamp      int64\n",
      "dtype: object\n"
     ]
    }
   ],
   "source": [
    "print(\"shape:\", ratings.shape)\n",
    "print(\"\\ncols:\", ratings.columns.tolist())\n",
    "print(\"\\ndata types:\")\n",
    "print(ratings.dtypes)"
   ]
  },
  {
   "cell_type": "code",
   "execution_count": null,
   "id": "rating-distribution",
   "metadata": {},
   "outputs": [
    {
     "name": "stdout",
     "output_type": "stream",
     "text": [
      "Rating distribution:\n",
      "rating\n",
      "0.5     525132\n",
      "1.0     946675\n",
      "1.5     531063\n",
      "2.0    2028622\n",
      "2.5    1685386\n",
      "3.0    6054990\n",
      "3.5    4290105\n",
      "4.0    8367654\n",
      "4.5    2974000\n",
      "5.0    4596577\n",
      "Name: count, dtype: int64\n",
      "\n",
      "Average rating: 3.54\n",
      "Rating std: 1.06\n"
     ]
    }
   ],
   "source": [
    "print(\"rating distribution:\")\n",
    "print(ratings['rating'].value_counts().sort_index())\n",
    "print(f\"\\navg rating: {ratings['rating'].mean():.2f}\")\n",
    "print(f\"rating std dev: {ratings['rating'].std():.2f}\")"
   ]
  },
  {
   "cell_type": "code",
   "execution_count": null,
   "id": "user-stats",
   "metadata": {},
   "outputs": [
    {
     "name": "stdout",
     "output_type": "stream",
     "text": [
      "Total unique users: 200,948\n",
      "Average ratings per user: 159.2\n",
      "Most active user has: 33332 ratings\n",
      "Least active users have: 20 ratings\n"
     ]
    }
   ],
   "source": [
    "user_counts = ratings['userId'].value_counts()\n",
    "print(f\"unique users: {ratings['userId'].nunique():,}\")\n",
    "print(f\"average # ratings per user: {user_counts.mean():.1f}\")\n",
    "print(f\"most active user has: {user_counts.max()} ratings\")\n",
    "print(f\"least active user have: {user_counts.min()} ratings\")"
   ]
  },
  {
   "cell_type": "code",
   "execution_count": null,
   "id": "movie-stats",
   "metadata": {},
   "outputs": [
    {
     "name": "stdout",
     "output_type": "stream",
     "text": [
      "Total unique movies: 84,432\n",
      "Average ratings per movie: 379.0\n",
      "Most rated movie has: 102929 ratings\n",
      "Least rated movies have: 1 ratings\n"
     ]
    }
   ],
   "source": [
    "movie_counts = ratings['movieId'].value_counts()\n",
    "print(f\"unique movies rated: {ratings['movieId'].nunique():,}\")\n",
    "print(f\"average ratings per movie: {movie_counts.mean():.1f}\")\n",
    "print(f\"most rated movie has: {movie_counts.max()} ratings\")\n",
    "print(f\"least rated movies have: {movie_counts.min()} ratings\")"
   ]
  },
  {
   "cell_type": "code",
   "execution_count": null,
   "id": "sample-user",
   "metadata": {},
   "outputs": [
    {
     "name": "stdout",
     "output_type": "stream",
     "text": [
      "Sample user 14674 ratings (6407 total):\n",
      " movieId  rating\n",
      "    2918     5.0\n",
      "    1196     5.0\n",
      "     589     5.0\n",
      "    2108     5.0\n",
      "    1036     5.0\n",
      "    2087     5.0\n",
      "    1073     5.0\n",
      "    2795     5.0\n",
      "    2005     5.0\n",
      "    2000     5.0\n"
     ]
    }
   ],
   "source": [
    "sample_user = user_counts.index[10]\n",
    "user_ratings = ratings[ratings['userId'] == sample_user].sort_values('rating', ascending=False)\n",
    "print(f\"sampling user {sample_user}'s ratings ({len(user_ratings)} total):\")\n",
    "print(user_ratings[['movieId', 'rating']].head(10).to_string(index=False))"
   ]
  },
  {
   "cell_type": "code",
   "execution_count": null,
   "id": "user-rating-pattern",
   "metadata": {},
   "outputs": [
    {
     "name": "stdout",
     "output_type": "stream",
     "text": [
      "\n",
      "User 14674 rating distribution:\n",
      "0.5 stars: 225 movies\n",
      "1.0 stars: 340 movies\n",
      "1.5 stars: 750 movies\n",
      "2.0 stars: 1309 movies\n",
      "2.5 stars: 1482 movies\n",
      "3.0 stars: 1637 movies\n",
      "3.5 stars: 412 movies\n",
      "4.0 stars: 113 movies\n",
      "4.5 stars: 54 movies\n",
      "5.0 stars: 85 movies\n"
     ]
    }
   ],
   "source": [
    "print(f\"\\nuser {sample_user}'s rating distribution:\")\n",
    "user_rating_dist = user_ratings['rating'].value_counts().sort_index()\n",
    "for rating, count in user_rating_dist.items():\n",
    "    print(f\"{rating:.1f} stars: {count} movies\")"
   ]
  },
  {
   "cell_type": "code",
   "execution_count": null,
   "id": "top-rated-movies",
   "metadata": {},
   "outputs": [
    {
     "name": "stdout",
     "output_type": "stream",
     "text": [
      "Top rated movies (100+ ratings):\n",
      "         avg_rating  num_ratings\n",
      "movieId                         \n",
      "171011         4.45         1956\n",
      "159817         4.44         2948\n",
      "170705         4.43         2811\n",
      "318            4.40       102929\n",
      "171495         4.33          615\n",
      "858            4.32        66440\n",
      "202439         4.31        11670\n",
      "198185         4.30         1140\n",
      "179135         4.30         1163\n",
      "220528         4.29          449\n"
     ]
    }
   ],
   "source": [
    "avg_ratings = ratings.groupby('movieId').agg({\n",
    "    'rating': ['mean', 'count']\n",
    "}).round(2)\n",
    "avg_ratings.columns = ['avg_rating', 'num_ratings']\n",
    "avg_ratings = avg_ratings[avg_ratings['num_ratings'] >= 100]\n",
    "\n",
    "print(\"top rated movies (100+ ratings):\")\n",
    "top_movies = avg_ratings.sort_values('avg_rating', ascending=False).head(10)\n",
    "print(top_movies.to_string())"
   ]
  }
 ],
 "metadata": {
  "kernelspec": {
   "display_name": ".venv",
   "language": "python",
   "name": "python3"
  },
  "language_info": {
   "codemirror_mode": {
    "name": "ipython",
    "version": 3
   },
   "file_extension": ".py",
   "mimetype": "text/x-python",
   "name": "python",
   "nbconvert_exporter": "python",
   "pygments_lexer": "ipython3",
   "version": "3.9.6"
  }
 },
 "nbformat": 4,
 "nbformat_minor": 5
}
